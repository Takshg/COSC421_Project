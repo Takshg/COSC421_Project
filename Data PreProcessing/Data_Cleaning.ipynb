{
  "nbformat": 4,
  "nbformat_minor": 0,
  "metadata": {
    "colab": {
      "provenance": []
    },
    "kernelspec": {
      "name": "python3",
      "display_name": "Python 3"
    },
    "language_info": {
      "name": "python"
    }
  },
  "cells": [
    {
      "cell_type": "markdown",
      "source": [
        "# Combining Datasets\n"
      ],
      "metadata": {
        "id": "k8L1lxEZhXtp"
      }
    },
    {
      "cell_type": "code",
      "execution_count": null,
      "metadata": {
        "id": "1xAb-iMwdAVn"
      },
      "outputs": [],
      "source": [
        "import pandas as pd\n",
        "\n",
        "data1 = pd.read_csv(\"/content/Kaggle_Dataset_1.csv\")\n",
        "data2 = pd.read_csv(\"/content/Kaggle_Dataset_1.csv\")"
      ]
    },
    {
      "cell_type": "code",
      "source": [
        "print(data1.head())\n",
        "print(data1.info())"
      ],
      "metadata": {
        "colab": {
          "base_uri": "https://localhost:8080/"
        },
        "id": "GfzR3plOdyI3",
        "outputId": "6624db94-39b4-4788-fad4-e9f13da87996"
      },
      "execution_count": null,
      "outputs": [
        {
          "output_type": "stream",
          "name": "stdout",
          "text": [
            "   ID           Query                             Job Title  \\\n",
            "0   1  Data Scientist  Junior Data Scientist Apprenticeship   \n",
            "1   2  Data Scientist   HBO Data Scientist, Content Science   \n",
            "2   3  Data Scientist                 Junior Data Scientist   \n",
            "3   4  Data Scientist                     Jr Data Scientist   \n",
            "4   5  Data Scientist       Data Scientist, Premium Content   \n",
            "\n",
            "                                         Description  \n",
            "0  Job Description As a Junior Data Scientist at ...  \n",
            "1  OVERALL SUMMARY As a Data Scientist on the Dat...  \n",
            "2  The Team: The Data science team is a newly for...  \n",
            "3  We now have a need for junior Data Scientist(s...  \n",
            "4  Do you want to help guide the core business of...  \n",
            "<class 'pandas.core.frame.DataFrame'>\n",
            "RangeIndex: 10000 entries, 0 to 9999\n",
            "Data columns (total 4 columns):\n",
            " #   Column       Non-Null Count  Dtype \n",
            "---  ------       --------------  ----- \n",
            " 0   ID           10000 non-null  int64 \n",
            " 1   Query        10000 non-null  object\n",
            " 2   Job Title    10000 non-null  object\n",
            " 3   Description  10000 non-null  object\n",
            "dtypes: int64(1), object(3)\n",
            "memory usage: 312.6+ KB\n",
            "None\n"
          ]
        }
      ]
    },
    {
      "cell_type": "markdown",
      "source": [],
      "metadata": {
        "id": "fuwFsiKFhVky"
      }
    },
    {
      "cell_type": "code",
      "source": [
        "print(data2.head())\n",
        "print(data2.info())"
      ],
      "metadata": {
        "colab": {
          "base_uri": "https://localhost:8080/"
        },
        "id": "_mYzvXnqd1Qy",
        "outputId": "2fe8511f-86a4-4393-cfbc-59f4fc23584a"
      },
      "execution_count": null,
      "outputs": [
        {
          "output_type": "stream",
          "name": "stdout",
          "text": [
            "   Unnamed: 0             Job Title  \\\n",
            "0           0     Flutter Developer   \n",
            "1           1      Django Developer   \n",
            "2           2      Machine Learning   \n",
            "3           3         iOS Developer   \n",
            "4           4  Full Stack Developer   \n",
            "\n",
            "                                     Job Description  \n",
            "0  We are looking for hire experts flutter develo...  \n",
            "1  PYTHON/DJANGO (Developer/Lead) - Job Code(PDJ ...  \n",
            "2  Data Scientist (Contractor)\\n\\nBangalore, IN\\n...  \n",
            "3  JOB DESCRIPTION:\\n\\nStrong framework outside o...  \n",
            "4  job responsibility full stack engineer – react...  \n",
            "<class 'pandas.core.frame.DataFrame'>\n",
            "RangeIndex: 2277 entries, 0 to 2276\n",
            "Data columns (total 3 columns):\n",
            " #   Column           Non-Null Count  Dtype \n",
            "---  ------           --------------  ----- \n",
            " 0   Unnamed: 0       2277 non-null   int64 \n",
            " 1   Job Title        2277 non-null   object\n",
            " 2   Job Description  2277 non-null   object\n",
            "dtypes: int64(1), object(2)\n",
            "memory usage: 53.5+ KB\n",
            "None\n"
          ]
        }
      ]
    },
    {
      "cell_type": "code",
      "source": [
        "selected_data1 = data1[['Job Title', 'Description']]\n",
        "selected_data2 = data2[['Job Title', 'Job Description']]\n",
        "selected_data2.columns = ['Job Title', 'Description']\n",
        "\n",
        "raw_data = pd.concat([selected_data1, selected_data2], ignore_index=True)\n",
        "print(raw_data.head())\n",
        "print(raw_data.info())\n",
        "\n",
        "\n",
        "raw_data.to_csv('raw_data.csv')"
      ],
      "metadata": {
        "colab": {
          "base_uri": "https://localhost:8080/"
        },
        "id": "cQBBOW8XewWF",
        "outputId": "6c44f65d-d725-4e26-946b-52c70f3bb214"
      },
      "execution_count": null,
      "outputs": [
        {
          "output_type": "stream",
          "name": "stdout",
          "text": [
            "                              Job Title  \\\n",
            "0  Junior Data Scientist Apprenticeship   \n",
            "1   HBO Data Scientist, Content Science   \n",
            "2                 Junior Data Scientist   \n",
            "3                     Jr Data Scientist   \n",
            "4       Data Scientist, Premium Content   \n",
            "\n",
            "                                         Description  \n",
            "0  Job Description As a Junior Data Scientist at ...  \n",
            "1  OVERALL SUMMARY As a Data Scientist on the Dat...  \n",
            "2  The Team: The Data science team is a newly for...  \n",
            "3  We now have a need for junior Data Scientist(s...  \n",
            "4  Do you want to help guide the core business of...  \n",
            "<class 'pandas.core.frame.DataFrame'>\n",
            "RangeIndex: 12277 entries, 0 to 12276\n",
            "Data columns (total 2 columns):\n",
            " #   Column       Non-Null Count  Dtype \n",
            "---  ------       --------------  ----- \n",
            " 0   Job Title    12277 non-null  object\n",
            " 1   Description  12277 non-null  object\n",
            "dtypes: object(2)\n",
            "memory usage: 192.0+ KB\n",
            "None\n"
          ]
        }
      ]
    },
    {
      "cell_type": "markdown",
      "source": [
        "#Data Cleaning\n"
      ],
      "metadata": {
        "id": "Y0GS1tGlhbv-"
      }
    },
    {
      "cell_type": "markdown",
      "source": [
        "##Missing values"
      ],
      "metadata": {
        "id": "hIhlnd3Oj30N"
      }
    },
    {
      "cell_type": "code",
      "source": [
        "missing_values = raw_data.isnull().sum()\n",
        "print(missing_values)"
      ],
      "metadata": {
        "colab": {
          "base_uri": "https://localhost:8080/"
        },
        "id": "5ytwIrmohe-k",
        "outputId": "719d6ad2-2eb4-4c28-e625-911a7af485dc"
      },
      "execution_count": null,
      "outputs": [
        {
          "output_type": "stream",
          "name": "stdout",
          "text": [
            "Job Title      0\n",
            "Description    0\n",
            "dtype: int64\n"
          ]
        }
      ]
    },
    {
      "cell_type": "markdown",
      "source": [
        "As we can see no missing values and we can verify this by checking if there were any missing values in the orginal two datasets"
      ],
      "metadata": {
        "id": "HsIvhIEMjDP3"
      }
    },
    {
      "cell_type": "code",
      "source": [
        "data1.isnull().sum()"
      ],
      "metadata": {
        "colab": {
          "base_uri": "https://localhost:8080/",
          "height": 210
        },
        "id": "9IGEAizyh8Vr",
        "outputId": "e7d4cabf-0e70-4b2d-cbbe-e7b1d8f1f64d"
      },
      "execution_count": null,
      "outputs": [
        {
          "output_type": "execute_result",
          "data": {
            "text/plain": [
              "ID             0\n",
              "Query          0\n",
              "Job Title      0\n",
              "Description    0\n",
              "dtype: int64"
            ],
            "text/html": [
              "<div>\n",
              "<style scoped>\n",
              "    .dataframe tbody tr th:only-of-type {\n",
              "        vertical-align: middle;\n",
              "    }\n",
              "\n",
              "    .dataframe tbody tr th {\n",
              "        vertical-align: top;\n",
              "    }\n",
              "\n",
              "    .dataframe thead th {\n",
              "        text-align: right;\n",
              "    }\n",
              "</style>\n",
              "<table border=\"1\" class=\"dataframe\">\n",
              "  <thead>\n",
              "    <tr style=\"text-align: right;\">\n",
              "      <th></th>\n",
              "      <th>0</th>\n",
              "    </tr>\n",
              "  </thead>\n",
              "  <tbody>\n",
              "    <tr>\n",
              "      <th>ID</th>\n",
              "      <td>0</td>\n",
              "    </tr>\n",
              "    <tr>\n",
              "      <th>Query</th>\n",
              "      <td>0</td>\n",
              "    </tr>\n",
              "    <tr>\n",
              "      <th>Job Title</th>\n",
              "      <td>0</td>\n",
              "    </tr>\n",
              "    <tr>\n",
              "      <th>Description</th>\n",
              "      <td>0</td>\n",
              "    </tr>\n",
              "  </tbody>\n",
              "</table>\n",
              "</div><br><label><b>dtype:</b> int64</label>"
            ]
          },
          "metadata": {},
          "execution_count": 16
        }
      ]
    },
    {
      "cell_type": "code",
      "source": [
        "data2.isnull().sum()"
      ],
      "metadata": {
        "colab": {
          "base_uri": "https://localhost:8080/",
          "height": 178
        },
        "id": "EDIuo2TQiI5s",
        "outputId": "8ec44ecd-c91e-446a-d3c0-f1b0b52560a6"
      },
      "execution_count": null,
      "outputs": [
        {
          "output_type": "execute_result",
          "data": {
            "text/plain": [
              "Unnamed: 0         0\n",
              "Job Title          0\n",
              "Job Description    0\n",
              "dtype: int64"
            ],
            "text/html": [
              "<div>\n",
              "<style scoped>\n",
              "    .dataframe tbody tr th:only-of-type {\n",
              "        vertical-align: middle;\n",
              "    }\n",
              "\n",
              "    .dataframe tbody tr th {\n",
              "        vertical-align: top;\n",
              "    }\n",
              "\n",
              "    .dataframe thead th {\n",
              "        text-align: right;\n",
              "    }\n",
              "</style>\n",
              "<table border=\"1\" class=\"dataframe\">\n",
              "  <thead>\n",
              "    <tr style=\"text-align: right;\">\n",
              "      <th></th>\n",
              "      <th>0</th>\n",
              "    </tr>\n",
              "  </thead>\n",
              "  <tbody>\n",
              "    <tr>\n",
              "      <th>Unnamed: 0</th>\n",
              "      <td>0</td>\n",
              "    </tr>\n",
              "    <tr>\n",
              "      <th>Job Title</th>\n",
              "      <td>0</td>\n",
              "    </tr>\n",
              "    <tr>\n",
              "      <th>Job Description</th>\n",
              "      <td>0</td>\n",
              "    </tr>\n",
              "  </tbody>\n",
              "</table>\n",
              "</div><br><label><b>dtype:</b> int64</label>"
            ]
          },
          "metadata": {},
          "execution_count": 18
        }
      ]
    }
  ]
}